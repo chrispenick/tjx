{
 "cells": [
  {
   "cell_type": "markdown",
   "id": "37fd1a8f",
   "metadata": {},
   "source": [
    "# Snowflake Customers CRUD (Simple)\n",
    "\n",
    "This notebook connects to Snowflake using environment variables, creates a demo database and a `CUSTOMERS` table, and performs basic CRUD operations."
   ]
  },
  {
   "cell_type": "code",
   "execution_count": null,
   "id": "9064dce4",
   "metadata": {},
   "outputs": [],
   "source": [
    "# Setup: install connector (if needed)\n",
    "%pip install snowflake-connector-python snowflake-connector-python[pandas] python-dotenv -q"
   ]
  },
  {
   "cell_type": "code",
   "execution_count": 1,
   "id": "6f7b42c7",
   "metadata": {},
   "outputs": [
    {
     "name": "stdout",
     "output_type": "stream",
     "text": [
      "Connected to Snowflake.\n"
     ]
    }
   ],
   "source": [
    "# 1) Connect to Snowflake using env vars\n",
    "import os\n",
    "import snowflake.connector\n",
    "from dotenv import load_dotenv\n",
    "\n",
    "load_dotenv()\n",
    "\n",
    "user = os.getenv(\"SNOWFLAKE_USER\")\n",
    "password = os.getenv(\"SNOWFLAKE_PASSWORD\")\n",
    "account = os.getenv(\"SNOWFLAKE_ACCOUNT\")\n",
    "warehouse = os.getenv(\"SNOWFLAKE_WAREHOUSE\")\n",
    "role = os.getenv(\"SNOWFLAKE_ROLE\")\n",
    "\n",
    "conn = snowflake.connector.connect(\n",
    "    user=user,\n",
    "    password=password,\n",
    "    account=account,\n",
    "    warehouse=warehouse,\n",
    "    role=role,\n",
    ")\n",
    "cur = conn.cursor()\n",
    "print(\"Connected to Snowflake.\")"
   ]
  },
  {
   "cell_type": "code",
   "execution_count": 2,
   "id": "b38989df",
   "metadata": {},
   "outputs": [
    {
     "name": "stdout",
     "output_type": "stream",
     "text": [
      "Database DEMO_DB and schema PUBLIC are ready.\n"
     ]
    }
   ],
   "source": [
    "# 2) Create DEMO_DB and PUBLIC schema; use them\n",
    "cur.execute(\"CREATE DATABASE IF NOT EXISTS DEMO_DB;\")\n",
    "cur.execute(\"USE DATABASE DEMO_DB;\")\n",
    "cur.execute(\"CREATE SCHEMA IF NOT EXISTS PUBLIC;\")\n",
    "cur.execute(\"USE SCHEMA PUBLIC;\")\n",
    "print(\"Database DEMO_DB and schema PUBLIC are ready.\")"
   ]
  },
  {
   "cell_type": "code",
   "execution_count": 3,
   "id": "dca9a311",
   "metadata": {},
   "outputs": [
    {
     "name": "stdout",
     "output_type": "stream",
     "text": [
      "Table CUSTOMERS created.\n"
     ]
    }
   ],
   "source": [
    "# 3) Create or replace CUSTOMERS table\n",
    "cur.execute(\"DROP TABLE IF EXISTS CUSTOMERS;\")\n",
    "cur.execute(\n",
    "    \"\"\"\n",
    "    CREATE OR REPLACE TABLE CUSTOMERS (\n",
    "        ID NUMBER(38,0) AUTOINCREMENT,\n",
    "        NAME VARCHAR(100) NOT NULL,\n",
    "        EMAIL VARCHAR(200) NOT NULL UNIQUE,\n",
    "        CREATED_AT TIMESTAMP_NTZ DEFAULT CURRENT_TIMESTAMP\n",
    "    );\n",
    "    \"\"\"\n",
    ")\n",
    "print(\"Table CUSTOMERS created.\")"
   ]
  },
  {
   "cell_type": "code",
   "execution_count": 4,
   "id": "60c5e592",
   "metadata": {},
   "outputs": [
    {
     "name": "stdout",
     "output_type": "stream",
     "text": [
      "Inserted 3 rows.\n"
     ]
    }
   ],
   "source": [
    "# 4) CREATE (Insert) sample rows (parameterized)\n",
    "rows = [\n",
    "    (\"Alice Johnson\", \"alice@example.com\"),\n",
    "    (\"Bob Smith\", \"bob@example.com\"),\n",
    "    (\"Charlie Lee\", \"charlie@example.com\"),\n",
    "]\n",
    "cur.executemany(\n",
    "    \"INSERT INTO CUSTOMERS (NAME, EMAIL) VALUES (%(name)s, %(email)s)\",\n",
    "    [{\"name\": n, \"email\": e} for n, e in rows]\n",
    ")\n",
    "print(f\"Inserted {cur.rowcount if cur.rowcount is not None else len(rows)} rows.\")"
   ]
  },
  {
   "cell_type": "code",
   "execution_count": 5,
   "id": "252ffdfd",
   "metadata": {},
   "outputs": [
    {
     "name": "stdout",
     "output_type": "stream",
     "text": [
      "All customers:\n",
      "(1, 'Alice Johnson', 'alice@example.com', datetime.datetime(2025, 10, 13, 16, 35, 32, 847000))\n",
      "(2, 'Bob Smith', 'bob@example.com', datetime.datetime(2025, 10, 13, 16, 35, 32, 847000))\n",
      "(3, 'Charlie Lee', 'charlie@example.com', datetime.datetime(2025, 10, 13, 16, 35, 32, 847000))\n",
      "\n",
      "Filtered by ID=1:\n",
      "(1, 'Alice Johnson', 'alice@example.com', datetime.datetime(2025, 10, 13, 16, 35, 32, 847000))\n",
      "\n",
      "Filtered by ID=1:\n",
      "(1, 'Alice Johnson', 'alice@example.com', datetime.datetime(2025, 10, 13, 16, 35, 32, 847000))\n"
     ]
    }
   ],
   "source": [
    "# 5) READ (Query) rows - all and filtered\n",
    "cur.execute(\"SELECT * FROM CUSTOMERS ORDER BY ID\")\n",
    "all_rows = cur.fetchall()\n",
    "print(\"All customers:\")\n",
    "for r in all_rows:\n",
    "    print(r)\n",
    "\n",
    "cur.execute(\"SELECT * FROM CUSTOMERS WHERE ID = %(id)s\", {\"id\": 1})\n",
    "print(\"\\nFiltered by ID=1:\")\n",
    "print(cur.fetchone())"
   ]
  },
  {
   "cell_type": "code",
   "execution_count": 6,
   "id": "8cc11924",
   "metadata": {},
   "outputs": [
    {
     "name": "stdout",
     "output_type": "stream",
     "text": [
      "Rows updated: 1\n",
      "Updated row:\n",
      "(2, 'Bob Smith', 'bob.new@example.com', datetime.datetime(2025, 10, 13, 16, 35, 32, 847000))\n",
      "Updated row:\n",
      "(2, 'Bob Smith', 'bob.new@example.com', datetime.datetime(2025, 10, 13, 16, 35, 32, 847000))\n"
     ]
    }
   ],
   "source": [
    "# 6) UPDATE a row (change email for ID=2)\n",
    "cur.execute(\n",
    "    \"UPDATE CUSTOMERS SET EMAIL = %(email)s WHERE ID = %(id)s\",\n",
    "    {\"email\": \"bob.new@example.com\", \"id\": 2}\n",
    ")\n",
    "print(f\"Rows updated: {cur.rowcount}\")\n",
    "\n",
    "cur.execute(\"SELECT * FROM CUSTOMERS WHERE ID = %(id)s\", {\"id\": 2})\n",
    "print(\"Updated row:\")\n",
    "print(cur.fetchone())"
   ]
  },
  {
   "cell_type": "code",
   "execution_count": 7,
   "id": "799379f4",
   "metadata": {},
   "outputs": [
    {
     "name": "stdout",
     "output_type": "stream",
     "text": [
      "Rows deleted: 1\n"
     ]
    }
   ],
   "source": [
    "# 7) DELETE a row (ID=3)\n",
    "cur.execute(\"DELETE FROM CUSTOMERS WHERE ID = %(id)s\", {\"id\": 3})\n",
    "print(f\"Rows deleted: {cur.rowcount}\")"
   ]
  },
  {
   "cell_type": "code",
   "execution_count": 8,
   "id": "d6761fe5",
   "metadata": {},
   "outputs": [
    {
     "name": "stdout",
     "output_type": "stream",
     "text": [
      "Total remaining: 2\n",
      "Remaining rows:\n",
      "(1, 'Alice Johnson', 'alice@example.com', datetime.datetime(2025, 10, 13, 16, 35, 32, 847000))\n",
      "(2, 'Bob Smith', 'bob.new@example.com', datetime.datetime(2025, 10, 13, 16, 35, 32, 847000))\n",
      "Snowflake connection closed.\n",
      "Remaining rows:\n",
      "(1, 'Alice Johnson', 'alice@example.com', datetime.datetime(2025, 10, 13, 16, 35, 32, 847000))\n",
      "(2, 'Bob Smith', 'bob.new@example.com', datetime.datetime(2025, 10, 13, 16, 35, 32, 847000))\n",
      "Snowflake connection closed.\n"
     ]
    }
   ],
   "source": [
    "# 8) Verify final state and close connection\n",
    "cur.execute(\"SELECT COUNT(*) FROM CUSTOMERS\")\n",
    "print(\"Total remaining:\", cur.fetchone()[0])\n",
    "\n",
    "cur.execute(\"SELECT * FROM CUSTOMERS ORDER BY ID\")\n",
    "print(\"Remaining rows:\")\n",
    "for r in cur.fetchall():\n",
    "    print(r)\n",
    "\n",
    "# Close connection\n",
    "cur.close()\n",
    "conn.close()\n",
    "print(\"Snowflake connection closed.\")\n",
    "\n",
    "# Optional cleanup (uncomment to drop the table)\n",
    "# cur = conn.cursor()\n",
    "# cur.execute(\"DROP TABLE IF EXISTS CUSTOMERS\")\n",
    "# cur.close()"
   ]
  }
 ],
 "metadata": {
  "kernelspec": {
   "display_name": ".venv",
   "language": "python",
   "name": "python3"
  },
  "language_info": {
   "codemirror_mode": {
    "name": "ipython",
    "version": 3
   },
   "file_extension": ".py",
   "mimetype": "text/x-python",
   "name": "python",
   "nbconvert_exporter": "python",
   "pygments_lexer": "ipython3",
   "version": "3.13.3"
  }
 },
 "nbformat": 4,
 "nbformat_minor": 5
}
