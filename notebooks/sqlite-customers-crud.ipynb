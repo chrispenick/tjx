{
 "cells": [
  {
   "cell_type": "markdown",
   "id": "eab78c0e",
   "metadata": {},
   "source": [
    "# SQLite Customers CRUD (Simple)\n",
    "\n",
    "This notebook creates a local SQLite database file (`customers.db`), a `customers` table, and demonstrates basic CRUD operations."
   ]
  },
  {
   "cell_type": "code",
   "execution_count": 1,
   "id": "5668344c",
   "metadata": {},
   "outputs": [
    {
     "name": "stdout",
     "output_type": "stream",
     "text": [
      "Connected to SQLite DB at /home/ola/webage/tjx-eic/notebooks/customers.db\n"
     ]
    }
   ],
   "source": [
    "# 1) Initialize and Connect to SQLite Database\n",
    "import sqlite3\n",
    "from pathlib import Path\n",
    "\n",
    "DB_PATH = Path(\"customers.db\")\n",
    "\n",
    "# Connect to database file (creates if it doesn't exist)\n",
    "conn = sqlite3.connect(DB_PATH)\n",
    "cur = conn.cursor()\n",
    "\n",
    "# Enable foreign keys just in case (not needed here but good habit)\n",
    "cur.execute(\"PRAGMA foreign_keys = ON;\")\n",
    "conn.commit()\n",
    "\n",
    "print(f\"Connected to SQLite DB at {DB_PATH.resolve()}\")"
   ]
  },
  {
   "cell_type": "code",
   "execution_count": null,
   "id": "640a7057",
   "metadata": {},
   "outputs": [],
   "source": [
    "# 2) Create customers Table (drop if exists, then create)\n",
    "cur.execute(\"DROP TABLE IF EXISTS customers;\")\n",
    "cur.execute(\n",
    "    \"\"\"\n",
    "    CREATE TABLE customers (\n",
    "        id INTEGER PRIMARY KEY AUTOINCREMENT,\n",
    "        name TEXT NOT NULL,\n",
    "        email TEXT UNIQUE NOT NULL,\n",
    "        created_at TIMESTAMP DEFAULT CURRENT_TIMESTAMP\n",
    "    );\n",
    "    \"\"\"\n",
    ")\n",
    "conn.commit()\n",
    "print(\"Table 'customers' created.\")"
   ]
  },
  {
   "cell_type": "code",
   "execution_count": null,
   "id": "4619ec05",
   "metadata": {},
   "outputs": [],
   "source": [
    "# 3) Create (Insert) Records\n",
    "rows = [\n",
    "    (\"Alice Johnson\", \"alice@example.com\"),\n",
    "    (\"Bob Smith\", \"bob@example.com\"),\n",
    "    (\"Charlie Lee\", \"charlie@example.com\"),\n",
    "]\n",
    "cur.executemany(\"INSERT INTO customers (name, email) VALUES (?, ?);\", rows)\n",
    "conn.commit()\n",
    "print(f\"Inserted {cur.rowcount if cur.rowcount != -1 else len(rows)} rows.\")"
   ]
  },
  {
   "cell_type": "code",
   "execution_count": null,
   "id": "39af796a",
   "metadata": {},
   "outputs": [],
   "source": [
    "# 4) Read (Query) Records - All and Filtered\n",
    "print(\"All customers:\")\n",
    "for row in cur.execute(\"SELECT id, name, email, created_at FROM customers ORDER BY id;\"):\n",
    "    print(row)\n",
    "\n",
    "# Filtered read by id (example: id = 1)\n",
    "customer_id = 1\n",
    "cur.execute(\"SELECT id, name, email, created_at FROM customers WHERE id = ?;\", (customer_id,))\n",
    "print(\"\\nFiltered by id=1:\")\n",
    "print(cur.fetchone())"
   ]
  },
  {
   "cell_type": "code",
   "execution_count": null,
   "id": "008265d7",
   "metadata": {},
   "outputs": [],
   "source": [
    "# 5) Update Records (change email for id=2)\n",
    "cur.execute(\n",
    "    \"UPDATE customers SET email = ? WHERE id = ?;\",\n",
    "    (\"bob.new@example.com\", 2),\n",
    ")\n",
    "conn.commit()\n",
    "\n",
    "cur.execute(\"SELECT id, name, email, created_at FROM customers WHERE id = ?;\", (2,))\n",
    "print(\"Updated row with id=2:\")\n",
    "print(cur.fetchone())"
   ]
  },
  {
   "cell_type": "code",
   "execution_count": null,
   "id": "42c5235a",
   "metadata": {},
   "outputs": [],
   "source": [
    "# 6) Delete Records (delete id=3)\n",
    "cur.execute(\"DELETE FROM customers WHERE id = ?;\", (3,))\n",
    "conn.commit()\n",
    "print(\"Deleted row with id=3\")"
   ]
  },
  {
   "cell_type": "code",
   "execution_count": null,
   "id": "6dedde23",
   "metadata": {},
   "outputs": [],
   "source": [
    "# 7) Verify Final State\n",
    "print(\"Remaining customers:\")\n",
    "for row in cur.execute(\"SELECT id, name, email, created_at FROM customers ORDER BY id;\"):\n",
    "    print(row)\n",
    "\n",
    "cur.execute(\"SELECT COUNT(*) FROM customers;\")\n",
    "print(\"Total remaining:\", cur.fetchone()[0])"
   ]
  },
  {
   "cell_type": "code",
   "execution_count": null,
   "id": "9e71a0ed",
   "metadata": {},
   "outputs": [],
   "source": [
    "# 8) Close the Database Connection\n",
    "conn.commit()\n",
    "cur.close()\n",
    "conn.close()\n",
    "print(\"Connection closed.\")\n",
    "\n",
    "# Optional cleanup (uncomment to drop the table)\n",
    "# conn = sqlite3.connect(DB_PATH)\n",
    "# cur = conn.cursor()\n",
    "# cur.execute(\"DROP TABLE IF EXISTS customers;\")\n",
    "# conn.commit()\n",
    "# cur.close()\n",
    "# conn.close()"
   ]
  }
 ],
 "metadata": {
  "kernelspec": {
   "display_name": ".venv",
   "language": "python",
   "name": "python3"
  },
  "language_info": {
   "codemirror_mode": {
    "name": "ipython",
    "version": 3
   },
   "file_extension": ".py",
   "mimetype": "text/x-python",
   "name": "python",
   "nbconvert_exporter": "python",
   "pygments_lexer": "ipython3",
   "version": "3.13.3"
  }
 },
 "nbformat": 4,
 "nbformat_minor": 5
}
