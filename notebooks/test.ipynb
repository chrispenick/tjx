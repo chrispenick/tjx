{
 "cells": [
  {
   "cell_type": "code",
   "execution_count": 1,
   "id": "786afc1a",
   "metadata": {},
   "outputs": [],
   "source": [
    "import pandas as pd\n",
    "\n",
    "# Customer data\n",
    "customers = pd.DataFrame({\n",
    "    \"customer_id\": [1, 2, 3],\n",
    "    \"name\": [\"Alice\", \"Bob\", \"Charlie\"]\n",
    "})\n",
    "\n",
    "# Transactions data\n",
    "transactions = pd.DataFrame({\n",
    "    \"transaction_id\": [100, 101, 102, 103],\n",
    "    \"customer_id\": [1, 2, 2, 4],\n",
    "    \"amount\": [50, 75, 20, 100]\n",
    "})\n"
   ]
  },
  {
   "cell_type": "code",
   "execution_count": 2,
   "id": "6607a439",
   "metadata": {},
   "outputs": [
    {
     "name": "stdout",
     "output_type": "stream",
     "text": [
      "   customer_id   name  transaction_id  amount\n",
      "0            1  Alice             100      50\n",
      "1            2    Bob             101      75\n",
      "2            2    Bob             102      20\n"
     ]
    }
   ],
   "source": [
    "merged = pd.merge(customers, transactions, on=\"customer_id\", how=\"inner\")\n",
    "print(merged)\n"
   ]
  },
  {
   "cell_type": "code",
   "execution_count": 3,
   "id": "c0aeac35",
   "metadata": {},
   "outputs": [
    {
     "data": {
      "text/html": [
       "<div>\n",
       "<style scoped>\n",
       "    .dataframe tbody tr th:only-of-type {\n",
       "        vertical-align: middle;\n",
       "    }\n",
       "\n",
       "    .dataframe tbody tr th {\n",
       "        vertical-align: top;\n",
       "    }\n",
       "\n",
       "    .dataframe thead th {\n",
       "        text-align: right;\n",
       "    }\n",
       "</style>\n",
       "<table border=\"1\" class=\"dataframe\">\n",
       "  <thead>\n",
       "    <tr style=\"text-align: right;\">\n",
       "      <th></th>\n",
       "      <th>customer_id</th>\n",
       "      <th>name</th>\n",
       "      <th>transaction_id</th>\n",
       "      <th>amount</th>\n",
       "    </tr>\n",
       "  </thead>\n",
       "  <tbody>\n",
       "    <tr>\n",
       "      <th>0</th>\n",
       "      <td>1</td>\n",
       "      <td>Alice</td>\n",
       "      <td>100.0</td>\n",
       "      <td>50.0</td>\n",
       "    </tr>\n",
       "    <tr>\n",
       "      <th>1</th>\n",
       "      <td>2</td>\n",
       "      <td>Bob</td>\n",
       "      <td>101.0</td>\n",
       "      <td>75.0</td>\n",
       "    </tr>\n",
       "    <tr>\n",
       "      <th>2</th>\n",
       "      <td>2</td>\n",
       "      <td>Bob</td>\n",
       "      <td>102.0</td>\n",
       "      <td>20.0</td>\n",
       "    </tr>\n",
       "    <tr>\n",
       "      <th>3</th>\n",
       "      <td>3</td>\n",
       "      <td>Charlie</td>\n",
       "      <td>NaN</td>\n",
       "      <td>NaN</td>\n",
       "    </tr>\n",
       "    <tr>\n",
       "      <th>4</th>\n",
       "      <td>4</td>\n",
       "      <td>NaN</td>\n",
       "      <td>103.0</td>\n",
       "      <td>100.0</td>\n",
       "    </tr>\n",
       "  </tbody>\n",
       "</table>\n",
       "</div>"
      ],
      "text/plain": [
       "   customer_id     name  transaction_id  amount\n",
       "0            1    Alice           100.0    50.0\n",
       "1            2      Bob           101.0    75.0\n",
       "2            2      Bob           102.0    20.0\n",
       "3            3  Charlie             NaN     NaN\n",
       "4            4      NaN           103.0   100.0"
      ]
     },
     "execution_count": 3,
     "metadata": {},
     "output_type": "execute_result"
    }
   ],
   "source": [
    "pd.merge(customers, transactions, on=\"customer_id\", how=\"left\")   # keep all customers\n",
    "pd.merge(customers, transactions, on=\"customer_id\", how=\"right\")  # keep all transactions\n",
    "pd.merge(customers, transactions, on=\"customer_id\", how=\"outer\")  # keep all from both\n"
   ]
  },
  {
   "cell_type": "code",
   "execution_count": 4,
   "id": "a8a32241",
   "metadata": {},
   "outputs": [
    {
     "name": "stdout",
     "output_type": "stream",
     "text": [
      "              name  transaction_id  amount\n",
      "customer_id                               \n",
      "1            Alice             100      50\n",
      "2              Bob             101      75\n",
      "2              Bob             102      20\n"
     ]
    }
   ],
   "source": [
    "# set index to customer_id for both\n",
    "customers_indexed = customers.set_index(\"customer_id\")\n",
    "transactions_indexed = transactions.set_index(\"customer_id\")\n",
    "\n",
    "joined = customers_indexed.join(transactions_indexed, how=\"inner\")\n",
    "print(joined)\n"
   ]
  }
 ],
 "metadata": {
  "kernelspec": {
   "display_name": ".venv",
   "language": "python",
   "name": "python3"
  },
  "language_info": {
   "codemirror_mode": {
    "name": "ipython",
    "version": 3
   },
   "file_extension": ".py",
   "mimetype": "text/x-python",
   "name": "python",
   "nbconvert_exporter": "python",
   "pygments_lexer": "ipython3",
   "version": "3.13.3"
  }
 },
 "nbformat": 4,
 "nbformat_minor": 5
}
